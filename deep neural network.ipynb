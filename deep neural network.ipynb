{
 "cells": [
  {
   "cell_type": "code",
   "execution_count": 1,
   "id": "995c7767-57c6-44b0-917a-41a3af18ca30",
   "metadata": {},
   "outputs": [],
   "source": [
    "import numpy as np\n",
    "import pandas as pd\n",
    "from keras.datasets import mnist\n",
    "(X_train,y_train), (X_test,y_test)= mnist.load_data()"
   ]
  },
  {
   "cell_type": "code",
   "execution_count": 2,
   "id": "d60924c6-4b65-41da-8d23-6f6fe0adb69f",
   "metadata": {},
   "outputs": [],
   "source": [
    "class ScratchDeepNeuralNetworkClassifier:\n",
    "    \n",
    "    def __init__(self, n_nodes1, n_nodes2,epochs, initializer, optimizer):\n",
    "        self.n_nodes1 = n_nodes1\n",
    "        self.n_nodes2 =n_nodes2\n",
    "        self.epochs = epochs\n",
    "        # Initialize\n",
    "        # Initialize self.W and self.B using the initializer method\n",
    "        self.W = initializer.W(self.n_nodes1, self.n_nodes2)\n",
    "        self.B = initializer.B(self.n_nodes2)\n",
    "        self.optimizer = optimizer\n",
    "    def fit(self, X, y):\n",
    "        # Initialize layers\n",
    "        self.layers_ = []\n",
    "        for i in range(len(self.layers) - 1):\n",
    "            self.layers_.append(FC(self.layers[i], self.layers[i+1], self.initializer, self.optimizer))\n",
    "            if self.activations[i] == 'sigmoid':\n",
    "                self.layers_.append(Sigmoid())\n",
    "            elif self.activations[i] == 'tanh':\n",
    "                self.layers_.append(Tanh())\n",
    "            elif self.activations[i] == 'relu':\n",
    "                self.layers_.append(Relu())\n",
    "            else:\n",
    "                raise ValueError(f\"Activation {self.activations[i]} not supported\")\n",
    "\n",
    "        \n",
    "        pass\n",
    "    def forward(self, X):\n",
    "        sel.Z=X\n",
    "        self.A = X @ self.W + self.B\n",
    "        pass\n",
    "        return self.A\n",
    "    def backward(self, dA):\n",
    "        self.dB = np.sum(dA, axis=0)\n",
    "        self.dW = self.Z.T @ dA\n",
    "        self.dZ = DA @ self.W.T\n",
    "        pass\n",
    "        # update\n",
    "        #self = self.optimizer.update(self)\n",
    "\n",
    "        self.W, self.B = self.optimizer.update(self.W, self.B, self. dW, self.dB)\n",
    "        return self.dZ"
   ]
  },
  {
   "cell_type": "code",
   "execution_count": 3,
   "id": "239b00e9-1d46-4fa4-ab94-d5edbfa7b9a6",
   "metadata": {},
   "outputs": [],
   "source": [
    "#problem 2"
   ]
  },
  {
   "cell_type": "code",
   "execution_count": 4,
   "id": "ccee9d84-962d-49f1-8569-f25a0ca95dd8",
   "metadata": {},
   "outputs": [],
   "source": [
    "class SimpleInitializer:\n",
    "    \n",
    "    def __init__(self, sigma):\n",
    "        self.sigma = sigma\n",
    "    def W(self, n_nodes1, n_nodes2):\n",
    "        W = self.sigma * np.random.randn(n_nodes1, n_nodes2)\n",
    "        pass\n",
    "        return W\n",
    "    def B(self, n_nodes2):\n",
    "        B = self.sigma * np.random.randn(1, n_nodes2)\n",
    "        pass\n",
    "        return B"
   ]
  },
  {
   "cell_type": "code",
   "execution_count": 5,
   "id": "87962d4b-7fb5-42d1-9e15-6b3ffa6da358",
   "metadata": {},
   "outputs": [],
   "source": [
    "#PROBLEM 3"
   ]
  },
  {
   "cell_type": "code",
   "execution_count": 6,
   "id": "205f7817-b179-4f81-8c27-2f9e9ce625f6",
   "metadata": {},
   "outputs": [],
   "source": [
    "class SGD:\n",
    "   \n",
    "    def __init__(self, lr):\n",
    "        self.lr = lr\n",
    "    def update(self, layer):\n",
    "        layer.W-= self.lr * layer.dW/len(layer.Z)\n",
    "        layer.B -= self.lr + layer.dB/len(layer.Z)\n",
    "        return layer"
   ]
  },
  {
   "cell_type": "code",
   "execution_count": 7,
   "id": "0cfb4ee6-3c7a-4991-bc20-d0c993f3ede7",
   "metadata": {},
   "outputs": [],
   "source": [
    "#Problem 4"
   ]
  },
  {
   "cell_type": "code",
   "execution_count": 8,
   "id": "64fb2917-1f9a-4a3b-9c6f-1875293990a5",
   "metadata": {},
   "outputs": [
    {
     "name": "stderr",
     "output_type": "stream",
     "text": [
      "<>:4: SyntaxWarning: 'int' object is not callable; perhaps you missed a comma?\n",
      "<>:4: SyntaxWarning: 'int' object is not callable; perhaps you missed a comma?\n",
      "C:\\Users\\DoBUY\\AppData\\Local\\Temp\\ipykernel_2728\\3648484811.py:4: SyntaxWarning: 'int' object is not callable; perhaps you missed a comma?\n",
      "  Z= 1/1(1+np.exp(-self.A))\n"
     ]
    }
   ],
   "source": [
    "class Sigmoid:\n",
    "    def forward(self, A):\n",
    "        self.A = A\n",
    "        Z= 1/1(1+np.exp(-self.A))\n",
    "        return Z\n",
    "    def backward (self, dZ):\n",
    "        dA = dZ * ((1/(1+np.exp(-self.A)))- (1/(1+np.exp(-self.A)))**2)\n",
    "        return dA"
   ]
  },
  {
   "cell_type": "code",
   "execution_count": 9,
   "id": "806226b7-08d6-43b2-a64a-9f303af9150d",
   "metadata": {},
   "outputs": [],
   "source": [
    "class Tanh:\n",
    "    def forward(self, A):\n",
    "        self.A = A\n",
    "        Z = np.tanh(self.A)\n",
    "        return Z\n",
    "    def backward (self, dZ):\n",
    "        dA = dZ * (1-np.tanh(self.A)**2)\n",
    "        return dA"
   ]
  },
  {
   "cell_type": "code",
   "execution_count": 10,
   "id": "34dd5f6d-5a5b-40fb-ac6d-159065853e35",
   "metadata": {},
   "outputs": [],
   "source": [
    "class softmax:\n",
    "    def forward(self,A):\n",
    "        Z = np.exp(A) / np.sum(np.exp(A), axis=1).reshape(-1,1)\n",
    "        return Z\n",
    "    def backward(Self, Z, y):\n",
    "        dA = Z-y\n",
    "        loss = -np.sum(y*np.logg(Z)) / len(y)\n",
    "        return dA, loss\n",
    "        "
   ]
  },
  {
   "cell_type": "code",
   "execution_count": 11,
   "id": "38ba012e-087f-4e0a-a621-9a92c3edd3a8",
   "metadata": {},
   "outputs": [],
   "source": [
    "def softmax(z):\n",
    "    exp_scores = np.exp(z-np.max(z))\n",
    "    probabilities = exp_scores/np.sum(exp_scores, axis=1, keepdims=True)\n",
    "    return probabilities"
   ]
  },
  {
   "cell_type": "code",
   "execution_count": 12,
   "id": "6b8f2458-9805-441a-b354-eb7cfdb8cf33",
   "metadata": {},
   "outputs": [],
   "source": [
    "#problem 5"
   ]
  },
  {
   "cell_type": "code",
   "execution_count": 13,
   "id": "76c0b03a-adcc-438b-8605-840092cfd49d",
   "metadata": {},
   "outputs": [],
   "source": [
    "class Relu:\n",
    "    def forward(self, A):\n",
    "        self.A = A\n",
    "        Z= np.minimum(0,A)\n",
    "        return Z\n",
    "    def backward(self, dZ):\n",
    "        dA = dZ * np.where(self.A >0,1,0)\n",
    "        return dA"
   ]
  },
  {
   "cell_type": "code",
   "execution_count": 14,
   "id": "eb4d0a47-4c63-44d8-801e-4a2981356394",
   "metadata": {},
   "outputs": [],
   "source": [
    "#problem 6"
   ]
  },
  {
   "cell_type": "code",
   "execution_count": 15,
   "id": "859ea92b-4443-416d-8252-6045941e9c34",
   "metadata": {},
   "outputs": [],
   "source": [
    "class XavierInitializer:\n",
    "    def __init__(self,sigma):\n",
    "        _=sigma\n",
    "    def W(self,n_nodes1, n_nodes2):\n",
    "        self.sigma =1/np.sqrt(n_nodes1)\n",
    "        W = self.sigma *np.random.randn(n_nodes1, n_nodes2)\n",
    "        return W\n",
    "    def B(self, n_nodes2):\n",
    "        B= self.sigma *np.random.randn(1,n_nodes2)\n",
    "        return B"
   ]
  },
  {
   "cell_type": "code",
   "execution_count": 16,
   "id": "ae1770fb-b194-499a-ad06-e16b367c96bf",
   "metadata": {},
   "outputs": [],
   "source": [
    "class HeInitializer:\n",
    "    def __init__(self,sigma):\n",
    "        _=sigma\n",
    "    def W(self, n_nodes1, n_nodes2):\n",
    "        self.sigma = np.sqrt(2/n_nodes1)\n",
    "        W= self.sigma* np.random.rand(n_nodes1, n_nodes2)\n",
    "        return W\n",
    "    def B(self, n_nodes2):\n",
    "        B= self.sigma * np.random.randn(1, n_nodes2)\n",
    "        return B"
   ]
  },
  {
   "cell_type": "code",
   "execution_count": 17,
   "id": "fc205116-40b4-4d1e-b123-405cf211aff3",
   "metadata": {},
   "outputs": [],
   "source": [
    "class AdaGrad:\n",
    "    def __init__(self, lr=0.01, epsilon=1e-8):\n",
    "        self.lr = lr\n",
    "        self.epsilon = epsilon\n",
    "        self.H_W = 0\n",
    "        self.H_B = 0\n",
    "\n",
    "    def update(self, layer):\n",
    "        self.H_W += layer.dW ** 2\n",
    "        self.H_B += layer.dB ** 2\n",
    "        layer.W -= self.lr * layer.dW / (np.sqrt(self.H_W) + self.epsilon)\n",
    "        layer.B -= self.lr * layer.dB / (np.sqrt(self.H_B) + self.epsilon)\n",
    "        return layer\n",
    "\n",
    "\n",
    "\n"
   ]
  },
  {
   "cell_type": "code",
   "execution_count": 20,
   "id": "4a574883-5176-4a3b-a293-49aedb27abeb",
   "metadata": {},
   "outputs": [
    {
     "name": "stdout",
     "output_type": "stream",
     "text": [
      "Network 1 - Layers: [784, 128, 64, 10], Activations: ['relu', 'relu', 'softmax']\n"
     ]
    },
    {
     "ename": "TypeError",
     "evalue": "ScratchDeepNeuralNetworkClassifier.__init__() got multiple values for argument 'epochs'",
     "output_type": "error",
     "traceback": [
      "\u001b[1;31m---------------------------------------------------------------------------\u001b[0m",
      "\u001b[1;31mTypeError\u001b[0m                                 Traceback (most recent call last)",
      "Cell \u001b[1;32mIn[20], line 11\u001b[0m\n\u001b[0;32m      9\u001b[0m \u001b[38;5;28;01mfor\u001b[39;00m i, (layers, activations) \u001b[38;5;129;01min\u001b[39;00m \u001b[38;5;28menumerate\u001b[39m(configurations):\n\u001b[0;32m     10\u001b[0m     \u001b[38;5;28mprint\u001b[39m(\u001b[38;5;124mf\u001b[39m\u001b[38;5;124m\"\u001b[39m\u001b[38;5;124mNetwork \u001b[39m\u001b[38;5;132;01m{\u001b[39;00mi\u001b[38;5;241m+\u001b[39m\u001b[38;5;241m1\u001b[39m\u001b[38;5;132;01m}\u001b[39;00m\u001b[38;5;124m - Layers: \u001b[39m\u001b[38;5;132;01m{\u001b[39;00mlayers\u001b[38;5;132;01m}\u001b[39;00m\u001b[38;5;124m, Activations: \u001b[39m\u001b[38;5;132;01m{\u001b[39;00mactivations\u001b[38;5;132;01m}\u001b[39;00m\u001b[38;5;124m\"\u001b[39m)\n\u001b[1;32m---> 11\u001b[0m     model \u001b[38;5;241m=\u001b[39m ScratchDeepNeuralNetworkClassifier(layers, activations[:\u001b[38;5;241m-\u001b[39m\u001b[38;5;241m1\u001b[39m], SimpleInitializer(sigma\u001b[38;5;241m=\u001b[39m\u001b[38;5;241m0.01\u001b[39m), AdaGrad(lr\u001b[38;5;241m=\u001b[39m\u001b[38;5;241m0.01\u001b[39m), epochs\u001b[38;5;241m=\u001b[39m\u001b[38;5;241m10\u001b[39m, batch_size\u001b[38;5;241m=\u001b[39m\u001b[38;5;241m32\u001b[39m)\n\u001b[0;32m     12\u001b[0m     model\u001b[38;5;241m.\u001b[39mfit(X_train\u001b[38;5;241m.\u001b[39mreshape(\u001b[38;5;241m-\u001b[39m\u001b[38;5;241m1\u001b[39m, \u001b[38;5;241m28\u001b[39m\u001b[38;5;241m*\u001b[39m\u001b[38;5;241m28\u001b[39m) \u001b[38;5;241m/\u001b[39m \u001b[38;5;241m255.0\u001b[39m, pd\u001b[38;5;241m.\u001b[39mget_dummies(y_train)\u001b[38;5;241m.\u001b[39mvalues)\n\u001b[0;32m     13\u001b[0m     y_pred \u001b[38;5;241m=\u001b[39m model\u001b[38;5;241m.\u001b[39mpredict(X_test\u001b[38;5;241m.\u001b[39mreshape(\u001b[38;5;241m-\u001b[39m\u001b[38;5;241m1\u001b[39m, \u001b[38;5;241m28\u001b[39m\u001b[38;5;241m*\u001b[39m\u001b[38;5;241m28\u001b[39m) \u001b[38;5;241m/\u001b[39m \u001b[38;5;241m255.0\u001b[39m)\n",
      "\u001b[1;31mTypeError\u001b[0m: ScratchDeepNeuralNetworkClassifier.__init__() got multiple values for argument 'epochs'"
     ]
    }
   ],
   "source": [
    "# Define the configurations for different networks\n",
    "configurations = [\n",
    "    ([784, 128, 64, 10], ['relu', 'relu', 'softmax']),\n",
    "    ([784, 256, 128, 10], ['relu', 'relu', 'softmax']),\n",
    "    ([784, 128, 64, 32, 10], ['relu', 'relu', 'relu', 'softmax']),\n",
    "]\n",
    "\n",
    "# Train and evaluate each network\n",
    "for i, (layers, activations) in enumerate(configurations):\n",
    "    print(f\"Network {i+1} - Layers: {layers}, Activations: {activations}\")\n",
    "    model = ScratchDeepNeuralNetworkClassifier(layers, activations[:-1], SimpleInitializer(sigma=0.01), AdaGrad(lr=0.01), epochs=10, batch_size=32)\n",
    "    model.fit(X_train.reshape(-1, 28*28) / 255.0, pd.get_dummies(y_train).values)\n",
    "    y_pred = model.predict(X_test.reshape(-1, 28*28) / 255.0)\n",
    "    accuracy = np.mean(y_pred == y_test) * 100\n",
    "    print(f\"Accuracy: {accuracy:.2f}%\")\n",
    "# Create an instance of the model\n",
    "\n"
   ]
  },
  {
   "cell_type": "code",
   "execution_count": null,
   "id": "a0760bae-6a5d-40a0-a09e-c232e8a61b1d",
   "metadata": {},
   "outputs": [],
   "source": []
  }
 ],
 "metadata": {
  "kernelspec": {
   "display_name": "Python 3 (ipykernel)",
   "language": "python",
   "name": "python3"
  },
  "language_info": {
   "codemirror_mode": {
    "name": "ipython",
    "version": 3
   },
   "file_extension": ".py",
   "mimetype": "text/x-python",
   "name": "python",
   "nbconvert_exporter": "python",
   "pygments_lexer": "ipython3",
   "version": "3.11.7"
  }
 },
 "nbformat": 4,
 "nbformat_minor": 5
}
